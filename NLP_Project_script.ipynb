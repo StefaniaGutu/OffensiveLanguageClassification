{
  "nbformat": 4,
  "nbformat_minor": 0,
  "metadata": {
    "colab": {
      "provenance": [],
      "include_colab_link": true
    },
    "kernelspec": {
      "name": "python3",
      "display_name": "Python 3"
    },
    "language_info": {
      "name": "python"
    }
  },
  "cells": [
    {
      "cell_type": "markdown",
      "metadata": {
        "id": "view-in-github",
        "colab_type": "text"
      },
      "source": [
        "<a href=\"https://colab.research.google.com/github/StefaniaGutu/OffensiveLanguageClassification/blob/main/NLP_Project_script.ipynb\" target=\"_parent\"><img src=\"https://colab.research.google.com/assets/colab-badge.svg\" alt=\"Open In Colab\"/></a>"
      ]
    },
    {
      "cell_type": "code",
      "source": [
        "import pandas as pd\n",
        "import re\n",
        "import numpy as np\n",
        "from sklearn.model_selection import train_test_split\n",
        "import string\n",
        "import spacy\n",
        "import pickle\n",
        "from os.path import exists\n",
        "from gensim.models import Word2Vec as w2v\n",
        "import torch\n",
        "import torch.nn as nn\n",
        "import torch.optim as optim\n",
        "from torch.utils.data import DataLoader, TensorDataset\n",
        "from torch.nn.utils.rnn import pad_sequence\n",
        "from sklearn.metrics import classification_report\n",
        "import math"
      ],
      "metadata": {
        "id": "cacUqx0ZiRkd"
      },
      "execution_count": 1,
      "outputs": []
    },
    {
      "cell_type": "markdown",
      "source": [
        "Citire dataset"
      ],
      "metadata": {
        "id": "NdbxCMoZ3sEP"
      }
    },
    {
      "cell_type": "code",
      "execution_count": 15,
      "metadata": {
        "id": "EilxfP8SF4iS",
        "colab": {
          "base_uri": "https://localhost:8080/"
        },
        "outputId": "da5fe624-c1c0-47b7-d0cb-ede8af18a7c7"
      },
      "outputs": [
        {
          "output_type": "stream",
          "name": "stdout",
          "text": [
            "0    !!! RT @mayasolovely: As a woman you shouldn't...\n",
            "1    !!!!! RT @mleew17: boy dats cold...tyga dwn ba...\n",
            "2    !!!!!!! RT @UrKindOfBrand Dawg!!!! RT @80sbaby...\n",
            "3    !!!!!!!!! RT @C_G_Anderson: @viva_based she lo...\n",
            "4    !!!!!!!!!!!!! RT @ShenikaRoberts: The shit you...\n",
            "Name: tweet, dtype: object\n",
            "0    2\n",
            "1    1\n",
            "2    1\n",
            "3    1\n",
            "4    1\n",
            "Name: class, dtype: int64\n"
          ]
        }
      ],
      "source": [
        "df = pd.read_csv('sample_data/labeled_data.csv')\n",
        "dataset_labels = df[\"class\"]\n",
        "dataset_tweets = df[\"tweet\"]\n",
        "print(dataset_tweets[:5])\n",
        "print(dataset_labels[:5])"
      ]
    },
    {
      "cell_type": "markdown",
      "source": [
        "Preprocesare"
      ],
      "metadata": {
        "id": "-ZyhmHOUhFIk"
      }
    },
    {
      "cell_type": "code",
      "source": [
        "def preprocess(dataset):\n",
        "    # eliminare @user\n",
        "    tweets_no_user = [re.sub(r'@[\\w]*', '', tweet) for tweet in dataset_tweets]\n",
        "\n",
        "    # eliminare URL\n",
        "    tweets_no_links = [re.sub(r'http\\S+', '', tweet) for tweet in tweets_no_user]\n",
        "\n",
        "    # eliminare hashtags\n",
        "    tweets_no_hashtags = [re.sub(r'#[a-zA-Z0-9_]+','', tweet) for tweet in tweets_no_links]\n",
        "\n",
        "    # eliminare &_\n",
        "    tweets_no_ampersand = [re.sub(r'&[a-zA-Z0-9_]+','', tweet) for tweet in tweets_no_hashtags]\n",
        "\n",
        "    # eliminare caractere speciale\n",
        "    tweets_no_punct = [tweet.translate(str.maketrans('', '', string.punctuation)) for tweet in tweets_no_ampersand]\n",
        "\n",
        "    # eliminare cifre\n",
        "    tweets_no_digits = [re.sub(r'\\d+', '', tweet) for tweet in tweets_no_punct]\n",
        "\n",
        "    # transformare caractere in litere mici\n",
        "    tweets_lower = [tweet.lower() for tweet in tweets_no_digits]\n",
        "\n",
        "    # inlocuire secvente repetitive cu aceeasi litera cu 2 doua repetitii a acesteia\n",
        "    # e.g. 'wooooow' -> 'woow'\n",
        "    tweets_no_repetitions = [re.sub(r'(.)\\1+', r'\\1\\1', tweet) for tweet in tweets_lower]\n",
        "\n",
        "    # inlocuire multiple caractere albe cu un singur caracter alb\n",
        "    tweets_no_spaces = [re.sub(r'\\s+', ' ', tweet) for tweet in tweets_no_repetitions]\n",
        "\n",
        "    # lematizare\n",
        "    nlp = spacy.load('en_core_web_sm')\n",
        "    all_words_lemma = [[word.lemma_ for word in nlp(sent)] for sent in tweets_no_spaces]\n",
        "\n",
        "    # eliminare stopwords\n",
        "    stop_words_spacy = nlp.Defaults.stop_words\n",
        "    all_words_without_stops = [[word for word in sent if word not in stop_words_spacy] for sent in all_words_lemma]\n",
        "\n",
        "    # eliminare cuvinte cu mai putin de doua caractere\n",
        "    words_no_shortWords = [[word for word in tweet if len(word)>2] for tweet in all_words_without_stops]\n",
        "    tweets_no_shortWords = [word for word in words_no_shortWords]\n",
        "\n",
        "    return tweets_no_shortWords"
      ],
      "metadata": {
        "id": "5udO_XE6hG_B"
      },
      "execution_count": 16,
      "outputs": []
    },
    {
      "cell_type": "code",
      "source": [
        "preprocessed_dataset = preprocess(dataset_tweets)\n",
        "preprocessed_dataset[:15]"
      ],
      "metadata": {
        "colab": {
          "base_uri": "https://localhost:8080/"
        },
        "id": "-pg5mbsBzviN",
        "outputId": "ee9c51aa-2174-465a-9f58-0537640b625d"
      },
      "execution_count": 17,
      "outputs": [
        {
          "output_type": "execute_result",
          "data": {
            "text/plain": [
              "[['woman', 'complain', 'clean', 'house', 'man', 'trash'],\n",
              " ['boy', 'dat', 'coldtyga', 'dwn', 'bad', 'cuffin', 'dat', 'hoe', 'place'],\n",
              " ['dawg', 'fuck', 'bitch', 'start', 'cry', 'confuse', 'shit'],\n",
              " ['look', 'like', 'tranny'],\n",
              " ['shit', 'hear', 'true', 'faker', 'bitch', 'tell'],\n",
              " ['shit', 'blow', 'meclaim', 'faithful', 'somebody', 'fuck', 'hoe'],\n",
              " ['sit', 'hate', 'bitch', 'shit'],\n",
              " ['cause', 'tired', 'big', 'bitch', 'come', 'skinny', 'girl'],\n",
              " ['bitch'],\n",
              " ['hobby', 'include', 'fight', 'mariam', 'bitch'],\n",
              " ['keek', 'bitch', 'curve', 'lol', 'walk', 'conversation', 'like', 'smh'],\n",
              " ['murda', 'gang', 'bitch', 'gang', 'land'],\n",
              " ['hoe', 'smoke', 'loser', 'yea'],\n",
              " ['bad', 'bitch', 'thing', 'like'],\n",
              " ['bitch']]"
            ]
          },
          "metadata": {},
          "execution_count": 17
        }
      ]
    },
    {
      "cell_type": "code",
      "source": [
        "# salvare date preprocesate\n",
        "pck = open(\"./pickles/preprocessed_dataset.pck\", \"wb\")\n",
        "pickle.dump({\n",
        "    'preprocessed_dataset': preprocessed_dataset,\n",
        "    'dataset_labels': dataset_labels\n",
        "}, pck)"
      ],
      "metadata": {
        "id": "LwQFhz3d4H2E"
      },
      "execution_count": 18,
      "outputs": []
    },
    {
      "cell_type": "code",
      "source": [
        "# incarcare date preprocesate\n",
        "dataset_tweets = []\n",
        "dataset_labels = []\n",
        "\n",
        "pck = open(\"./pickles/preprocessed_dataset.pck\", \"rb\")\n",
        "result = pickle.load(pck)\n",
        "dataset_tweets = result['preprocessed_dataset']\n",
        "dataset_labels = result['dataset_labels']"
      ],
      "metadata": {
        "id": "4j9vqWw96nqn"
      },
      "execution_count": 20,
      "outputs": []
    },
    {
      "cell_type": "markdown",
      "source": [
        "Extragere features"
      ],
      "metadata": {
        "id": "ZiSc-06W6tSI"
      }
    },
    {
      "cell_type": "code",
      "source": [
        "# Label-uri originale\n",
        "# 0 - hate speech \n",
        "# 1 - offensive language \n",
        "# 2 - neither\n",
        "\n",
        "# Transformare New Labels\n",
        "# 0 - hate speech & offensive language \n",
        "# 1 - normal speech\n",
        "\n",
        "new_dataset_labels = []\n",
        "for i in dataset_labels:\n",
        "  if i == 1:\n",
        "    new_dataset_labels.append(0)\n",
        "  elif i == 2:\n",
        "    new_dataset_labels.append(1)\n",
        "  else:\n",
        "    new_dataset_labels.append(i)\n",
        "\n",
        "hate_speech = [data for data in new_dataset_labels if data == 0]\n",
        "print('No. of hate speech tweets: ', len(hate_speech))\n",
        "print('No. of normal speech tweets: ', len(new_dataset_labels) - len(hate_speech))"
      ],
      "metadata": {
        "id": "J1MmAnaG8bwz",
        "outputId": "2fa9e4db-97b5-4997-f120-e718090ad5bd",
        "colab": {
          "base_uri": "https://localhost:8080/"
        }
      },
      "execution_count": 21,
      "outputs": [
        {
          "output_type": "stream",
          "name": "stdout",
          "text": [
            "No. of hate speech tweets:  20620\n",
            "No. of normal speech tweets:  4163\n"
          ]
        }
      ]
    },
    {
      "cell_type": "markdown",
      "source": [
        "Vectorizare tweets"
      ],
      "metadata": {
        "id": "MjerMhev8d_6"
      }
    },
    {
      "cell_type": "code",
      "source": [
        "w = w2v(\n",
        "    dataset_tweets,\n",
        "    min_count=3,\n",
        "    sg=1,  # folosire skip-gram\n",
        "    window=7\n",
        ")\n",
        "\n",
        "emb_df = (\n",
        "    pd.DataFrame(\n",
        "        [w.wv.get_vector(str(n)) for n in w.wv.key_to_index],\n",
        "        index=w.wv.key_to_index\n",
        "    )\n",
        ")\n",
        "\n",
        "print(\"Snippet of vectorized dataset:\")\n",
        "emb_df.head()"
      ],
      "metadata": {
        "id": "hAJHgfOY8fMi",
        "outputId": "2bd2764a-9d72-4726-e20b-769050de3034",
        "colab": {
          "base_uri": "https://localhost:8080/",
          "height": 317
        }
      },
      "execution_count": 22,
      "outputs": [
        {
          "output_type": "stream",
          "name": "stdout",
          "text": [
            "Snippet of vectorized dataset:\n"
          ]
        },
        {
          "output_type": "execute_result",
          "data": {
            "text/plain": [
              "             0         1         2         3         4         5         6   \\\n",
              "bitch -0.253815  0.363812  0.082159  0.250147  0.144317 -0.289422  0.256780   \n",
              "hoe   -0.235722  0.233416  0.030501  0.266416  0.244366 -0.395659  0.101440   \n",
              "like  -0.153898  0.061575 -0.253794 -0.110359  0.124142 -0.209060  0.063550   \n",
              "pussy -0.362276  0.199240 -0.030405  0.229053  0.186614 -0.283849  0.039137   \n",
              "fuck  -0.072211  0.071446 -0.162912  0.033709  0.084598 -0.340934  0.131103   \n",
              "\n",
              "             7         8         9   ...        90        91        92  \\\n",
              "bitch  0.570614 -0.387734 -0.183745  ... -0.012797 -0.013084  0.179199   \n",
              "hoe    0.444944 -0.364026 -0.217979  ... -0.040352  0.066378  0.190805   \n",
              "like   0.518869 -0.426410 -0.081765  ...  0.002953  0.258107  0.308775   \n",
              "pussy  0.390505 -0.212662 -0.269934  ...  0.033874  0.068764  0.067731   \n",
              "fuck   0.515549 -0.251116 -0.126571  ...  0.252354  0.161649  0.032366   \n",
              "\n",
              "             93        94        95        96        97        98        99  \n",
              "bitch  0.052755  0.701132  0.023203 -0.260612 -0.138701  0.016032  0.231703  \n",
              "hoe    0.045151  0.574508  0.006402 -0.057906 -0.124974 -0.199931  0.184724  \n",
              "like  -0.139100  0.486553  0.304533  0.130024  0.088588  0.171412  0.030224  \n",
              "pussy -0.066140  0.721412  0.010455  0.089760 -0.273730 -0.179517  0.028367  \n",
              "fuck   0.085612  0.463884  0.111749 -0.046471 -0.014765  0.005055  0.066733  \n",
              "\n",
              "[5 rows x 100 columns]"
            ],
            "text/html": [
              "\n",
              "  <div id=\"df-4f595511-00d8-44dc-a0f3-93e56354714f\">\n",
              "    <div class=\"colab-df-container\">\n",
              "      <div>\n",
              "<style scoped>\n",
              "    .dataframe tbody tr th:only-of-type {\n",
              "        vertical-align: middle;\n",
              "    }\n",
              "\n",
              "    .dataframe tbody tr th {\n",
              "        vertical-align: top;\n",
              "    }\n",
              "\n",
              "    .dataframe thead th {\n",
              "        text-align: right;\n",
              "    }\n",
              "</style>\n",
              "<table border=\"1\" class=\"dataframe\">\n",
              "  <thead>\n",
              "    <tr style=\"text-align: right;\">\n",
              "      <th></th>\n",
              "      <th>0</th>\n",
              "      <th>1</th>\n",
              "      <th>2</th>\n",
              "      <th>3</th>\n",
              "      <th>4</th>\n",
              "      <th>5</th>\n",
              "      <th>6</th>\n",
              "      <th>7</th>\n",
              "      <th>8</th>\n",
              "      <th>9</th>\n",
              "      <th>...</th>\n",
              "      <th>90</th>\n",
              "      <th>91</th>\n",
              "      <th>92</th>\n",
              "      <th>93</th>\n",
              "      <th>94</th>\n",
              "      <th>95</th>\n",
              "      <th>96</th>\n",
              "      <th>97</th>\n",
              "      <th>98</th>\n",
              "      <th>99</th>\n",
              "    </tr>\n",
              "  </thead>\n",
              "  <tbody>\n",
              "    <tr>\n",
              "      <th>bitch</th>\n",
              "      <td>-0.253815</td>\n",
              "      <td>0.363812</td>\n",
              "      <td>0.082159</td>\n",
              "      <td>0.250147</td>\n",
              "      <td>0.144317</td>\n",
              "      <td>-0.289422</td>\n",
              "      <td>0.256780</td>\n",
              "      <td>0.570614</td>\n",
              "      <td>-0.387734</td>\n",
              "      <td>-0.183745</td>\n",
              "      <td>...</td>\n",
              "      <td>-0.012797</td>\n",
              "      <td>-0.013084</td>\n",
              "      <td>0.179199</td>\n",
              "      <td>0.052755</td>\n",
              "      <td>0.701132</td>\n",
              "      <td>0.023203</td>\n",
              "      <td>-0.260612</td>\n",
              "      <td>-0.138701</td>\n",
              "      <td>0.016032</td>\n",
              "      <td>0.231703</td>\n",
              "    </tr>\n",
              "    <tr>\n",
              "      <th>hoe</th>\n",
              "      <td>-0.235722</td>\n",
              "      <td>0.233416</td>\n",
              "      <td>0.030501</td>\n",
              "      <td>0.266416</td>\n",
              "      <td>0.244366</td>\n",
              "      <td>-0.395659</td>\n",
              "      <td>0.101440</td>\n",
              "      <td>0.444944</td>\n",
              "      <td>-0.364026</td>\n",
              "      <td>-0.217979</td>\n",
              "      <td>...</td>\n",
              "      <td>-0.040352</td>\n",
              "      <td>0.066378</td>\n",
              "      <td>0.190805</td>\n",
              "      <td>0.045151</td>\n",
              "      <td>0.574508</td>\n",
              "      <td>0.006402</td>\n",
              "      <td>-0.057906</td>\n",
              "      <td>-0.124974</td>\n",
              "      <td>-0.199931</td>\n",
              "      <td>0.184724</td>\n",
              "    </tr>\n",
              "    <tr>\n",
              "      <th>like</th>\n",
              "      <td>-0.153898</td>\n",
              "      <td>0.061575</td>\n",
              "      <td>-0.253794</td>\n",
              "      <td>-0.110359</td>\n",
              "      <td>0.124142</td>\n",
              "      <td>-0.209060</td>\n",
              "      <td>0.063550</td>\n",
              "      <td>0.518869</td>\n",
              "      <td>-0.426410</td>\n",
              "      <td>-0.081765</td>\n",
              "      <td>...</td>\n",
              "      <td>0.002953</td>\n",
              "      <td>0.258107</td>\n",
              "      <td>0.308775</td>\n",
              "      <td>-0.139100</td>\n",
              "      <td>0.486553</td>\n",
              "      <td>0.304533</td>\n",
              "      <td>0.130024</td>\n",
              "      <td>0.088588</td>\n",
              "      <td>0.171412</td>\n",
              "      <td>0.030224</td>\n",
              "    </tr>\n",
              "    <tr>\n",
              "      <th>pussy</th>\n",
              "      <td>-0.362276</td>\n",
              "      <td>0.199240</td>\n",
              "      <td>-0.030405</td>\n",
              "      <td>0.229053</td>\n",
              "      <td>0.186614</td>\n",
              "      <td>-0.283849</td>\n",
              "      <td>0.039137</td>\n",
              "      <td>0.390505</td>\n",
              "      <td>-0.212662</td>\n",
              "      <td>-0.269934</td>\n",
              "      <td>...</td>\n",
              "      <td>0.033874</td>\n",
              "      <td>0.068764</td>\n",
              "      <td>0.067731</td>\n",
              "      <td>-0.066140</td>\n",
              "      <td>0.721412</td>\n",
              "      <td>0.010455</td>\n",
              "      <td>0.089760</td>\n",
              "      <td>-0.273730</td>\n",
              "      <td>-0.179517</td>\n",
              "      <td>0.028367</td>\n",
              "    </tr>\n",
              "    <tr>\n",
              "      <th>fuck</th>\n",
              "      <td>-0.072211</td>\n",
              "      <td>0.071446</td>\n",
              "      <td>-0.162912</td>\n",
              "      <td>0.033709</td>\n",
              "      <td>0.084598</td>\n",
              "      <td>-0.340934</td>\n",
              "      <td>0.131103</td>\n",
              "      <td>0.515549</td>\n",
              "      <td>-0.251116</td>\n",
              "      <td>-0.126571</td>\n",
              "      <td>...</td>\n",
              "      <td>0.252354</td>\n",
              "      <td>0.161649</td>\n",
              "      <td>0.032366</td>\n",
              "      <td>0.085612</td>\n",
              "      <td>0.463884</td>\n",
              "      <td>0.111749</td>\n",
              "      <td>-0.046471</td>\n",
              "      <td>-0.014765</td>\n",
              "      <td>0.005055</td>\n",
              "      <td>0.066733</td>\n",
              "    </tr>\n",
              "  </tbody>\n",
              "</table>\n",
              "<p>5 rows × 100 columns</p>\n",
              "</div>\n",
              "      <button class=\"colab-df-convert\" onclick=\"convertToInteractive('df-4f595511-00d8-44dc-a0f3-93e56354714f')\"\n",
              "              title=\"Convert this dataframe to an interactive table.\"\n",
              "              style=\"display:none;\">\n",
              "        \n",
              "  <svg xmlns=\"http://www.w3.org/2000/svg\" height=\"24px\"viewBox=\"0 0 24 24\"\n",
              "       width=\"24px\">\n",
              "    <path d=\"M0 0h24v24H0V0z\" fill=\"none\"/>\n",
              "    <path d=\"M18.56 5.44l.94 2.06.94-2.06 2.06-.94-2.06-.94-.94-2.06-.94 2.06-2.06.94zm-11 1L8.5 8.5l.94-2.06 2.06-.94-2.06-.94L8.5 2.5l-.94 2.06-2.06.94zm10 10l.94 2.06.94-2.06 2.06-.94-2.06-.94-.94-2.06-.94 2.06-2.06.94z\"/><path d=\"M17.41 7.96l-1.37-1.37c-.4-.4-.92-.59-1.43-.59-.52 0-1.04.2-1.43.59L10.3 9.45l-7.72 7.72c-.78.78-.78 2.05 0 2.83L4 21.41c.39.39.9.59 1.41.59.51 0 1.02-.2 1.41-.59l7.78-7.78 2.81-2.81c.8-.78.8-2.07 0-2.86zM5.41 20L4 18.59l7.72-7.72 1.47 1.35L5.41 20z\"/>\n",
              "  </svg>\n",
              "      </button>\n",
              "      \n",
              "  <style>\n",
              "    .colab-df-container {\n",
              "      display:flex;\n",
              "      flex-wrap:wrap;\n",
              "      gap: 12px;\n",
              "    }\n",
              "\n",
              "    .colab-df-convert {\n",
              "      background-color: #E8F0FE;\n",
              "      border: none;\n",
              "      border-radius: 50%;\n",
              "      cursor: pointer;\n",
              "      display: none;\n",
              "      fill: #1967D2;\n",
              "      height: 32px;\n",
              "      padding: 0 0 0 0;\n",
              "      width: 32px;\n",
              "    }\n",
              "\n",
              "    .colab-df-convert:hover {\n",
              "      background-color: #E2EBFA;\n",
              "      box-shadow: 0px 1px 2px rgba(60, 64, 67, 0.3), 0px 1px 3px 1px rgba(60, 64, 67, 0.15);\n",
              "      fill: #174EA6;\n",
              "    }\n",
              "\n",
              "    [theme=dark] .colab-df-convert {\n",
              "      background-color: #3B4455;\n",
              "      fill: #D2E3FC;\n",
              "    }\n",
              "\n",
              "    [theme=dark] .colab-df-convert:hover {\n",
              "      background-color: #434B5C;\n",
              "      box-shadow: 0px 1px 3px 1px rgba(0, 0, 0, 0.15);\n",
              "      filter: drop-shadow(0px 1px 2px rgba(0, 0, 0, 0.3));\n",
              "      fill: #FFFFFF;\n",
              "    }\n",
              "  </style>\n",
              "\n",
              "      <script>\n",
              "        const buttonEl =\n",
              "          document.querySelector('#df-4f595511-00d8-44dc-a0f3-93e56354714f button.colab-df-convert');\n",
              "        buttonEl.style.display =\n",
              "          google.colab.kernel.accessAllowed ? 'block' : 'none';\n",
              "\n",
              "        async function convertToInteractive(key) {\n",
              "          const element = document.querySelector('#df-4f595511-00d8-44dc-a0f3-93e56354714f');\n",
              "          const dataTable =\n",
              "            await google.colab.kernel.invokeFunction('convertToInteractive',\n",
              "                                                     [key], {});\n",
              "          if (!dataTable) return;\n",
              "\n",
              "          const docLinkHtml = 'Like what you see? Visit the ' +\n",
              "            '<a target=\"_blank\" href=https://colab.research.google.com/notebooks/data_table.ipynb>data table notebook</a>'\n",
              "            + ' to learn more about interactive tables.';\n",
              "          element.innerHTML = '';\n",
              "          dataTable['output_type'] = 'display_data';\n",
              "          await google.colab.output.renderOutput(dataTable, element);\n",
              "          const docLink = document.createElement('div');\n",
              "          docLink.innerHTML = docLinkHtml;\n",
              "          element.appendChild(docLink);\n",
              "        }\n",
              "      </script>\n",
              "    </div>\n",
              "  </div>\n",
              "  "
            ]
          },
          "metadata": {},
          "execution_count": 22
        }
      ]
    },
    {
      "cell_type": "code",
      "source": [
        "vectorized_sentences = [] \n",
        "vectorized_labels = []\n",
        "\n",
        "for i, sentence in enumerate(dataset_tweets):\n",
        "    sentence_vectors = []\n",
        "    for word in sentence:\n",
        "        try:\n",
        "            word_vector = w.wv.get_vector(word)\n",
        "            word_vector = word_vector[~np.isnan(word_vector)]\n",
        "            sentence_vectors.append(np.mean(word_vector))\n",
        "        except KeyError:\n",
        "            # If a word is not in the vocabulary, ignore it\n",
        "            pass\n",
        "    try:\n",
        "      vectorized_sentence = sentence_vectors\n",
        "      vectorized_sentences.append(vectorized_sentence)\n",
        "      vectorized_labels.append(new_dataset_labels[i])\n",
        "    except ZeroDivisionError:\n",
        "      pass\n",
        "\n",
        "print(\"Word vectorization for every sentence:\")\n",
        "print(vectorized_sentences[:5])\n",
        "print(\"Labels for the above sentences: \", vectorized_labels[:5])"
      ],
      "metadata": {
        "id": "l1YPqNob8jnK",
        "outputId": "a0fc1425-70b2-42f8-cfa1-b978fbe1200b",
        "colab": {
          "base_uri": "https://localhost:8080/"
        }
      },
      "execution_count": 23,
      "outputs": [
        {
          "output_type": "stream",
          "name": "stdout",
          "text": [
            "Word vectorization for every sentence:\n",
            "[[0.015738519, 0.00538588, 0.0068075173, 0.005401041, 0.012162268, -0.010240559], [0.0008741776, 0.003449244, 0.012828689, 0.005233385, 0.003449244, 0.0010927176, 0.004908672], [0.005889101, 0.0012296453, -0.0026917816, 0.0024945466, 0.00858413, 0.005145441, -0.008688549], [0.0024914788, 0.009757325, 0.0034156698], [-0.008688549, 0.006457069, 0.0073863934, 0.004063918, -0.0026917816, 0.010578543]]\n",
            "Labels for the above sentences:  [1, 0, 0, 0, 0]\n"
          ]
        }
      ]
    },
    {
      "cell_type": "markdown",
      "source": [
        "Adaugare padding"
      ],
      "metadata": {
        "id": "kxf1NpDmAD1F"
      }
    },
    {
      "cell_type": "code",
      "source": [
        "# padding every tweet to the longest sentence\n",
        "padded_tweets = pad_sequence([torch.tensor(tweet) for tweet in vectorized_sentences], batch_first=True, padding_value=0)"
      ],
      "metadata": {
        "id": "oBmgvSRa_7W1"
      },
      "execution_count": 24,
      "outputs": []
    },
    {
      "cell_type": "markdown",
      "source": [
        "Separarea datelor in date de antrenare, testare si validare"
      ],
      "metadata": {
        "id": "RlPT0zmj4yHH"
      }
    },
    {
      "cell_type": "code",
      "source": [
        "X_train, X_val_test, y_train, y_val_test = train_test_split(padded_tweets, vectorized_labels, test_size=0.30, random_state=42)\n",
        "X_test, X_validation, y_test, y_validation = train_test_split(X_val_test, y_val_test, test_size=0.50, random_state=42)\n",
        "\n",
        "print(\"No. of train tweets: \", len(X_train))\n",
        "print(\"No. of test tweets: \", len(X_test))\n",
        "print(\"No. of validation tweets: \", len(X_validation))"
      ],
      "metadata": {
        "id": "mgCTUFko4trf",
        "colab": {
          "base_uri": "https://localhost:8080/"
        },
        "outputId": "9aed099d-b7d2-409f-9050-0bcd241e61eb"
      },
      "execution_count": 25,
      "outputs": [
        {
          "output_type": "stream",
          "name": "stdout",
          "text": [
            "No. of train tweets:  17348\n",
            "No. of test tweets:  3717\n",
            "No. of validation tweets:  3718\n"
          ]
        }
      ]
    },
    {
      "cell_type": "markdown",
      "source": [
        "Model"
      ],
      "metadata": {
        "id": "ilEsADe6VAjr"
      }
    },
    {
      "cell_type": "code",
      "source": [
        "# Convertire date in tensori PyTorch\n",
        "\n",
        "X_train_tensor = torch.tensor(X_train)\n",
        "X_val_tensor = torch.tensor(X_validation)\n",
        "X_test_tensor = torch.tensor(X_test)\n",
        "y_train_tensor = torch.tensor(y_train)\n",
        "y_val_tensor = torch.tensor(y_validation)\n",
        "y_test_tensor = torch.tensor(y_test)\n",
        "\n",
        "train_data = TensorDataset(X_train_tensor, y_train_tensor)\n",
        "val_data = TensorDataset(X_val_tensor, y_val_tensor)\n",
        "test_data = TensorDataset(X_test_tensor, y_test_tensor)"
      ],
      "metadata": {
        "id": "2d7l152CVCJE"
      },
      "execution_count": null,
      "outputs": []
    },
    {
      "cell_type": "code",
      "source": [
        "# dataloaders\n",
        "batch_size = 50  \n",
        "train_loader = DataLoader(train_data, shuffle=True, batch_size=batch_size)\n",
        "val_loader = DataLoader(val_data, shuffle=True, batch_size=batch_size)\n",
        "test_loader = DataLoader(test_data, shuffle=True, batch_size=batch_size)"
      ],
      "metadata": {
        "id": "pTh-UNEBYxBT"
      },
      "execution_count": 27,
      "outputs": []
    },
    {
      "cell_type": "code",
      "source": [
        "# definire model RNN\n",
        "class RNN(nn.Module):\n",
        "    def __init__(self, input_size, hidden_size, output_size):\n",
        "        super(RNN, self).__init__()\n",
        "        self.hidden_size = hidden_size\n",
        "        self.rnn = nn.RNN(input_size, hidden_size, batch_first=True)\n",
        "        self.fc = nn.Linear(hidden_size, output_size)\n",
        "\n",
        "    def forward(self, x):\n",
        "        x = x.view(x.shape[0], 1, -1)  # reshape la (batch_size, sequence_length, input_size)\n",
        "        out, _ = self.rnn(x)\n",
        "        out = out[:, -1, :]  # get the last output of the sequence \n",
        "        out = self.fc(out)\n",
        "        return out\n",
        "\n",
        "model = RNN(len(X_train[0]), 32, 2)  # clasificare binara (hate_speech & offensive_language vs. normal_speech)\n",
        "criterion = nn.CrossEntropyLoss()\n",
        "optimizer = optim.Adam(model.parameters())"
      ],
      "metadata": {
        "id": "I-fTrvqRnpGb"
      },
      "execution_count": 35,
      "outputs": []
    },
    {
      "cell_type": "markdown",
      "source": [
        "Antrenare si validare model"
      ],
      "metadata": {
        "id": "go0xaOpUCZQN"
      }
    },
    {
      "cell_type": "code",
      "source": [
        "epochs_no = 100\n",
        "for epoch in range(epochs_no):  # antrenare model in epoci \n",
        "    # antrenare\n",
        "    model.train()\n",
        "    for inputs, labels in train_loader:\n",
        "        optimizer.zero_grad()\n",
        "        outputs = model(inputs.float())\n",
        "        loss = criterion(outputs, labels.long())\n",
        "        loss.backward()\n",
        "        optimizer.step()\n",
        "\n",
        "    # validare\n",
        "    model.eval()\n",
        "    \n",
        "    val_losses = []\n",
        "    for inputs, labels in val_loader:\n",
        "        with torch.no_grad():\n",
        "            val_outputs = model(inputs.float())\n",
        "            val_loss = criterion(val_outputs, labels.long())\n",
        "        val_losses.append(val_loss.item())\n",
        "    print(f'Epoch {epoch+1}, Loss: {loss.item()}, Val Loss: {sum(val_losses)/len(val_losses)}')"
      ],
      "metadata": {
        "colab": {
          "base_uri": "https://localhost:8080/"
        },
        "id": "2l4DKjmRZAu9",
        "outputId": "01babf65-1a1d-47e9-8d12-98a33374f734"
      },
      "execution_count": 36,
      "outputs": [
        {
          "output_type": "stream",
          "name": "stdout",
          "text": [
            "Epoch 1, Loss: 0.4505457580089569, Val Loss: 0.453272541364034\n",
            "Epoch 2, Loss: 0.45080772042274475, Val Loss: 0.4558661961555481\n",
            "Epoch 3, Loss: 0.2904714345932007, Val Loss: 0.4557308852672577\n",
            "Epoch 4, Loss: 0.5444226861000061, Val Loss: 0.4570409647623698\n",
            "Epoch 5, Loss: 0.45028868317604065, Val Loss: 0.4542970883846283\n",
            "Epoch 6, Loss: 0.40892985463142395, Val Loss: 0.45400386571884155\n",
            "Epoch 7, Loss: 0.48473212122917175, Val Loss: 0.45503403425216676\n",
            "Epoch 8, Loss: 0.38624823093414307, Val Loss: 0.45175528864065806\n",
            "Epoch 9, Loss: 0.5118669271469116, Val Loss: 0.45222827792167664\n",
            "Epoch 10, Loss: 0.3394610583782196, Val Loss: 0.4548978014787038\n",
            "Epoch 11, Loss: 0.4445559084415436, Val Loss: 0.4510106384754181\n",
            "Epoch 12, Loss: 0.5202204585075378, Val Loss: 0.4524947182337443\n",
            "Epoch 13, Loss: 0.5469512343406677, Val Loss: 0.4514547634124756\n",
            "Epoch 14, Loss: 0.4007445275783539, Val Loss: 0.4520122786362966\n",
            "Epoch 15, Loss: 0.4480588436126709, Val Loss: 0.45232248028119404\n",
            "Epoch 16, Loss: 0.3798673450946808, Val Loss: 0.45339630007743836\n",
            "Epoch 17, Loss: 0.5134251713752747, Val Loss: 0.45310665130615235\n",
            "Epoch 18, Loss: 0.5136929154396057, Val Loss: 0.45227277557055157\n",
            "Epoch 19, Loss: 0.514650285243988, Val Loss: 0.45373958150545757\n",
            "Epoch 20, Loss: 0.4810110032558441, Val Loss: 0.4511690819263458\n",
            "Epoch 21, Loss: 0.4660246670246124, Val Loss: 0.4516191518306732\n",
            "Epoch 22, Loss: 0.6032117009162903, Val Loss: 0.4548048945267995\n",
            "Epoch 23, Loss: 0.35093045234680176, Val Loss: 0.45076654156049095\n",
            "Epoch 24, Loss: 0.49558165669441223, Val Loss: 0.45547908981641133\n",
            "Epoch 25, Loss: 0.5181779265403748, Val Loss: 0.44952658911546073\n",
            "Epoch 26, Loss: 0.5601341724395752, Val Loss: 0.45424732208251956\n",
            "Epoch 27, Loss: 0.3540498912334442, Val Loss: 0.4505733036994934\n",
            "Epoch 28, Loss: 0.30520448088645935, Val Loss: 0.45149349212646483\n",
            "Epoch 29, Loss: 0.5776568651199341, Val Loss: 0.452268693447113\n",
            "Epoch 30, Loss: 0.37132152915000916, Val Loss: 0.45079424262046813\n",
            "Epoch 31, Loss: 0.5407499074935913, Val Loss: 0.44921715259552003\n",
            "Epoch 32, Loss: 0.33612748980522156, Val Loss: 0.45055967807769776\n",
            "Epoch 33, Loss: 0.3745059072971344, Val Loss: 0.449633916815122\n",
            "Epoch 34, Loss: 0.5108497738838196, Val Loss: 0.450799486041069\n",
            "Epoch 35, Loss: 0.5547759532928467, Val Loss: 0.45156946221987404\n",
            "Epoch 36, Loss: 0.4393732249736786, Val Loss: 0.4511938412984212\n",
            "Epoch 37, Loss: 0.4428495168685913, Val Loss: 0.45155630191167195\n",
            "Epoch 38, Loss: 0.5560563206672668, Val Loss: 0.45045809030532835\n",
            "Epoch 39, Loss: 0.31928959488868713, Val Loss: 0.4504357572396596\n",
            "Epoch 40, Loss: 0.32607290148735046, Val Loss: 0.45078850865364073\n",
            "Epoch 41, Loss: 0.4169749319553375, Val Loss: 0.45285828987757365\n",
            "Epoch 42, Loss: 0.33435550332069397, Val Loss: 0.45322427491346995\n",
            "Epoch 43, Loss: 0.5700260996818542, Val Loss: 0.4528713874022166\n",
            "Epoch 44, Loss: 0.40751397609710693, Val Loss: 0.4538376533985138\n",
            "Epoch 45, Loss: 0.34378278255462646, Val Loss: 0.45078726212183634\n",
            "Epoch 46, Loss: 0.3243125379085541, Val Loss: 0.45051214973131815\n",
            "Epoch 47, Loss: 0.38892504572868347, Val Loss: 0.45091973304748534\n",
            "Epoch 48, Loss: 0.4971292316913605, Val Loss: 0.4521033279101054\n",
            "Epoch 49, Loss: 0.4098866283893585, Val Loss: 0.45206228097279866\n",
            "Epoch 50, Loss: 0.2959589660167694, Val Loss: 0.4503822271029154\n",
            "Epoch 51, Loss: 0.37308087944984436, Val Loss: 0.45704992532730104\n",
            "Epoch 52, Loss: 0.30650216341018677, Val Loss: 0.44986138423283895\n",
            "Epoch 53, Loss: 0.5151581168174744, Val Loss: 0.4500622449318568\n",
            "Epoch 54, Loss: 0.4171403646469116, Val Loss: 0.45158316373825075\n",
            "Epoch 55, Loss: 0.40523791313171387, Val Loss: 0.4528455416361491\n",
            "Epoch 56, Loss: 0.668904721736908, Val Loss: 0.4535450808207194\n",
            "Epoch 57, Loss: 0.4418409764766693, Val Loss: 0.44998921593030294\n",
            "Epoch 58, Loss: 0.3327033817768097, Val Loss: 0.4509197175502777\n",
            "Epoch 59, Loss: 0.4191488027572632, Val Loss: 0.4506936506430308\n",
            "Epoch 60, Loss: 0.47095999121665955, Val Loss: 0.45214418808619183\n",
            "Epoch 61, Loss: 0.27544066309928894, Val Loss: 0.4561626438299815\n",
            "Epoch 62, Loss: 0.3948371708393097, Val Loss: 0.4542580763498942\n",
            "Epoch 63, Loss: 0.3950289189815521, Val Loss: 0.452645237048467\n",
            "Epoch 64, Loss: 0.5067480206489563, Val Loss: 0.4541954839229584\n",
            "Epoch 65, Loss: 0.3254913091659546, Val Loss: 0.45082781195640564\n",
            "Epoch 66, Loss: 0.46574485301971436, Val Loss: 0.4537651844819387\n",
            "Epoch 67, Loss: 0.5253885388374329, Val Loss: 0.45073251565297445\n",
            "Epoch 68, Loss: 0.35813236236572266, Val Loss: 0.4517710427443186\n",
            "Epoch 69, Loss: 0.36442017555236816, Val Loss: 0.45203306277592975\n",
            "Epoch 70, Loss: 0.5174674987792969, Val Loss: 0.44967534820238747\n",
            "Epoch 71, Loss: 0.47537970542907715, Val Loss: 0.4524068590005239\n",
            "Epoch 72, Loss: 0.42480921745300293, Val Loss: 0.4515870495637258\n",
            "Epoch 73, Loss: 0.5250959396362305, Val Loss: 0.4534041146437327\n",
            "Epoch 74, Loss: 0.43412864208221436, Val Loss: 0.4517021063963572\n",
            "Epoch 75, Loss: 0.4900473356246948, Val Loss: 0.4501970986525218\n",
            "Epoch 76, Loss: 0.4024333655834198, Val Loss: 0.4520169206460317\n",
            "Epoch 77, Loss: 0.5683643221855164, Val Loss: 0.4571911098559697\n",
            "Epoch 78, Loss: 0.6794734001159668, Val Loss: 0.453155570824941\n",
            "Epoch 79, Loss: 0.32983651757240295, Val Loss: 0.4525762752691905\n",
            "Epoch 80, Loss: 0.32317012548446655, Val Loss: 0.4504901071389516\n",
            "Epoch 81, Loss: 0.3703904151916504, Val Loss: 0.45160437146822613\n",
            "Epoch 82, Loss: 0.5032210350036621, Val Loss: 0.45273303469022114\n",
            "Epoch 83, Loss: 0.48374032974243164, Val Loss: 0.45245359619458514\n",
            "Epoch 84, Loss: 0.5290789604187012, Val Loss: 0.453442147175471\n",
            "Epoch 85, Loss: 0.49941250681877136, Val Loss: 0.4511409290631612\n",
            "Epoch 86, Loss: 0.5089132189750671, Val Loss: 0.4502470131715139\n",
            "Epoch 87, Loss: 0.4460371732711792, Val Loss: 0.45196749289830523\n",
            "Epoch 88, Loss: 0.43632662296295166, Val Loss: 0.45074946542580924\n",
            "Epoch 89, Loss: 0.3654184341430664, Val Loss: 0.45136785984039307\n",
            "Epoch 90, Loss: 0.2748173773288727, Val Loss: 0.452160271803538\n",
            "Epoch 91, Loss: 0.3317590653896332, Val Loss: 0.451607772509257\n",
            "Epoch 92, Loss: 0.5233072638511658, Val Loss: 0.4499643079439799\n",
            "Epoch 93, Loss: 0.4736069440841675, Val Loss: 0.4545266564687093\n",
            "Epoch 94, Loss: 0.2762511670589447, Val Loss: 0.4511602912346522\n",
            "Epoch 95, Loss: 0.41166600584983826, Val Loss: 0.45115842978159587\n",
            "Epoch 96, Loss: 0.44123753905296326, Val Loss: 0.45092640121777855\n",
            "Epoch 97, Loss: 0.5564469695091248, Val Loss: 0.45320074597994486\n",
            "Epoch 98, Loss: 0.5598168969154358, Val Loss: 0.4534008451302846\n",
            "Epoch 99, Loss: 0.5101516842842102, Val Loss: 0.45209527532259625\n",
            "Epoch 100, Loss: 0.5999051332473755, Val Loss: 0.45287060459454853\n"
          ]
        }
      ]
    },
    {
      "cell_type": "markdown",
      "source": [
        "Salvare model"
      ],
      "metadata": {
        "id": "OC8oAMSaVrWA"
      }
    },
    {
      "cell_type": "code",
      "source": [
        "def saveBestModel():\n",
        "    torch.save(model.state_dict(), \"model/best_model.pt\")"
      ],
      "metadata": {
        "id": "sZOZyXs6Vqd9"
      },
      "execution_count": 37,
      "outputs": []
    },
    {
      "cell_type": "code",
      "source": [
        "saveBestModel()"
      ],
      "metadata": {
        "id": "vBjXnmqjWShL"
      },
      "execution_count": 38,
      "outputs": []
    },
    {
      "cell_type": "code",
      "source": [
        "def loadBestModel():\n",
        "  try:\n",
        "      model.load_state_dict(torch.load(\"model/best_model.pt\"))\n",
        "      return True\n",
        "  except:\n",
        "      return False"
      ],
      "metadata": {
        "id": "hJ0ZMdLFWD0F"
      },
      "execution_count": 32,
      "outputs": []
    },
    {
      "cell_type": "markdown",
      "source": [
        "Testare model"
      ],
      "metadata": {
        "id": "Hpp-dC3ZCfqV"
      }
    },
    {
      "cell_type": "code",
      "source": [
        "loadBestModel()\n",
        "model.eval()\n",
        "\n",
        "correct = 0\n",
        "total = 0\n",
        "predictions = []\n",
        "labelsTest = []\n",
        "for inputs, labels in test_loader:\n",
        "    with torch.no_grad():\n",
        "        test_outputs = model(inputs.float())\n",
        "        _, predicted = torch.max(test_outputs, 1)\n",
        "        total += labels.size(0)\n",
        "        predictions.extend(predicted)\n",
        "        labelsTest.extend(labels.long())\n",
        "        correct += (predicted == labels.long()).sum().item()\n",
        "\n",
        "accuracy = correct / total\n",
        "print(f'Test Accuracy: {accuracy}')\n",
        "print(classification_report(labelsTest, predictions))"
      ],
      "metadata": {
        "id": "DVflK7KxZXea"
      },
      "execution_count": null,
      "outputs": []
    }
  ]
}