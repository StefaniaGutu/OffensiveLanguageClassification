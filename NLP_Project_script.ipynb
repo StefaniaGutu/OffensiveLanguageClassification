{
  "nbformat": 4,
  "nbformat_minor": 0,
  "metadata": {
    "colab": {
      "provenance": [],
      "include_colab_link": true
    },
    "kernelspec": {
      "name": "python3",
      "display_name": "Python 3"
    },
    "language_info": {
      "name": "python"
    }
  },
  "cells": [
    {
      "cell_type": "markdown",
      "metadata": {
        "id": "view-in-github",
        "colab_type": "text"
      },
      "source": [
        "<a href=\"https://colab.research.google.com/github/StefaniaGutu/OffensiveLanguageClassification/blob/main/NLP_Project_script.ipynb\" target=\"_parent\"><img src=\"https://colab.research.google.com/assets/colab-badge.svg\" alt=\"Open In Colab\"/></a>"
      ]
    },
    {
      "cell_type": "code",
      "source": [
        "import pandas as pd\n",
        "import re\n",
        "import numpy as np\n",
        "from sklearn.model_selection import train_test_split\n",
        "import string\n",
        "import spacy\n",
        "import pickle\n",
        "from os.path import exists\n",
        "from gensim.models import Word2Vec as w2v\n",
        "import torch\n",
        "import torch.nn as nn\n",
        "import torch.optim as optim\n",
        "from torch.utils.data import DataLoader, TensorDataset\n",
        "from torch.nn.utils.rnn import pad_sequence\n",
        "from sklearn.metrics import classification_report\n",
        "import math"
      ],
      "metadata": {
        "id": "cacUqx0ZiRkd"
      },
      "execution_count": 1,
      "outputs": []
    },
    {
      "cell_type": "markdown",
      "source": [
        "Citire dataset"
      ],
      "metadata": {
        "id": "NdbxCMoZ3sEP"
      }
    },
    {
      "cell_type": "code",
      "execution_count": 24,
      "metadata": {
        "id": "EilxfP8SF4iS",
        "colab": {
          "base_uri": "https://localhost:8080/"
        },
        "outputId": "7bf40d7c-e13a-48ee-d458-b1e8f14e006c"
      },
      "outputs": [
        {
          "output_type": "stream",
          "name": "stdout",
          "text": [
            "0    2\n",
            "1    1\n",
            "2    1\n",
            "3    1\n",
            "4    1\n",
            "5    1\n",
            "6    1\n",
            "7    1\n",
            "8    1\n",
            "9    1\n",
            "Name: class, dtype: int64\n"
          ]
        }
      ],
      "source": [
        "df = pd.read_csv('sample_data/labeled_data.csv')\n",
        "dataset_labels = df[\"class\"]\n",
        "dataset_tweets = df[\"tweet\"]\n",
        "print(dataset_labels[:10])"
      ]
    },
    {
      "cell_type": "markdown",
      "source": [
        "Preprocesare"
      ],
      "metadata": {
        "id": "-ZyhmHOUhFIk"
      }
    },
    {
      "cell_type": "code",
      "source": [
        "def preprocess(dataset):\n",
        "    # eliminare @user\n",
        "    tweets_no_user = [re.sub(r'@[\\w]*', '', tweet) for tweet in dataset_tweets]\n",
        "\n",
        "    # eliminare URL\n",
        "    tweets_no_links = [re.sub(r'http\\S+', '', tweet) for tweet in tweets_no_user]\n",
        "\n",
        "    # eliminare hashtags\n",
        "    tweets_no_hashtags = [re.sub(r'#[a-zA-Z0-9_]+','', tweet) for tweet in tweets_no_links]\n",
        "\n",
        "    # eliminare &_;\n",
        "    tweets_no_apersand = [re.sub(r'&[a-zA-Z0-9_]+','', tweet) for tweet in tweets_no_hashtags]\n",
        "\n",
        "    # eliminare caractere speciale\n",
        "    tweets_no_punct = [tweet.translate(str.maketrans('', '', string.punctuation)) for tweet in tweets_no_apersand]\n",
        "\n",
        "    # eliminare cifre\n",
        "    tweets_no_digits = [re.sub(r'\\d+', '', tweet) for tweet in tweets_no_punct]\n",
        "\n",
        "    # transformare caractere in litere mici\n",
        "    tweets_lower = [tweet.lower() for tweet in tweets_no_digits]\n",
        "\n",
        "    # inlocuire secvente repetitive cu aceeasi litera cu 2 doua repetitii a acesteia\n",
        "    # e.g. 'wooooow' -> 'woow'\n",
        "    tweets_no_repetitions = [re.sub(r'(.)\\1+', r'\\1\\1', tweet) for tweet in tweets_lower]\n",
        "\n",
        "    # inlocuire multiple caractere albe cu un singur caracter alb\n",
        "    tweets_no_spaces = [re.sub(r'\\s+', ' ', tweet) for tweet in tweets_no_repetitions]\n",
        "\n",
        "    # lemmatizare\n",
        "    nlp = spacy.load('en_core_web_sm')\n",
        "    all_words_lemma = [[word.lemma_ for word in nlp(sent)] for sent in tweets_no_spaces]\n",
        "\n",
        "    # eliminare stopwords\n",
        "    stop_words_spacy = nlp.Defaults.stop_words\n",
        "    all_words_without_stops = [[word for word in sent if word not in stop_words_spacy] for sent in all_words_lemma]\n",
        "\n",
        "    # eliminare cuvinte cu mai putin de doua caractere\n",
        "    words_no_shortWords = [[word for word in tweet if len(word)>2] for tweet in all_words_without_stops]\n",
        "    tweets_no_shortWords = [word for word in words_no_shortWords]\n",
        "\n",
        "    return tweets_no_shortWords"
      ],
      "metadata": {
        "id": "5udO_XE6hG_B"
      },
      "execution_count": 25,
      "outputs": []
    },
    {
      "cell_type": "code",
      "source": [
        "preprocessed_dataset = preprocess(dataset_tweets)\n",
        "preprocessed_dataset[:15]"
      ],
      "metadata": {
        "colab": {
          "base_uri": "https://localhost:8080/"
        },
        "id": "-pg5mbsBzviN",
        "outputId": "df949be5-eacf-40ae-9aa9-1c9875af170d"
      },
      "execution_count": 26,
      "outputs": [
        {
          "output_type": "execute_result",
          "data": {
            "text/plain": [
              "[['woman', 'complain', 'clean', 'house', 'man', 'trash'],\n",
              " ['boy', 'dat', 'coldtyga', 'dwn', 'bad', 'cuffin', 'dat', 'hoe', 'place'],\n",
              " ['dawg', 'fuck', 'bitch', 'start', 'cry', 'confuse', 'shit'],\n",
              " ['look', 'like', 'tranny'],\n",
              " ['shit', 'hear', 'true', 'faker', 'bitch', 'tell'],\n",
              " ['shit', 'blow', 'meclaim', 'faithful', 'somebody', 'fuck', 'hoe'],\n",
              " ['sit', 'hate', 'bitch', 'shit'],\n",
              " ['cause', 'tired', 'big', 'bitch', 'come', 'skinny', 'girl'],\n",
              " ['bitch'],\n",
              " ['hobby', 'include', 'fight', 'mariam', 'bitch'],\n",
              " ['keek', 'bitch', 'curve', 'lol', 'walk', 'conversation', 'like', 'smh'],\n",
              " ['murda', 'gang', 'bitch', 'gang', 'land'],\n",
              " ['hoe', 'smoke', 'loser', 'yea'],\n",
              " ['bad', 'bitch', 'thing', 'like'],\n",
              " ['bitch']]"
            ]
          },
          "metadata": {},
          "execution_count": 26
        }
      ]
    },
    {
      "cell_type": "code",
      "source": [
        "print(dataset_labels[:10])\n",
        "# salvare date preprocesate\n",
        "pck = open(\"./pickles/preprocessed_dataset.pck\", \"wb\")\n",
        "pickle.dump({\n",
        "    'preprocessed_dataset': preprocessed_dataset,\n",
        "    'dataset_labels': dataset_labels\n",
        "}, pck)"
      ],
      "metadata": {
        "id": "LwQFhz3d4H2E",
        "colab": {
          "base_uri": "https://localhost:8080/"
        },
        "outputId": "f8317b79-49f4-414d-e1c7-0e1795e40ff6"
      },
      "execution_count": 27,
      "outputs": [
        {
          "output_type": "stream",
          "name": "stdout",
          "text": [
            "0    2\n",
            "1    1\n",
            "2    1\n",
            "3    1\n",
            "4    1\n",
            "5    1\n",
            "6    1\n",
            "7    1\n",
            "8    1\n",
            "9    1\n",
            "Name: class, dtype: int64\n"
          ]
        }
      ]
    },
    {
      "cell_type": "code",
      "source": [
        "# incarcare date preprocesate\n",
        "dataset_tweets = []\n",
        "dataset_labels = []\n",
        "\n",
        "pck = open(\"./pickles/preprocessed_dataset.pck\", \"rb\")\n",
        "result = pickle.load(pck)\n",
        "dataset_tweets = result['preprocessed_dataset']\n",
        "dataset_labels = result['dataset_labels']"
      ],
      "metadata": {
        "id": "4j9vqWw96nqn"
      },
      "execution_count": 28,
      "outputs": []
    },
    {
      "cell_type": "markdown",
      "source": [
        "Extragere features"
      ],
      "metadata": {
        "id": "ZiSc-06W6tSI"
      }
    },
    {
      "cell_type": "code",
      "source": [
        "# Label-uri originale\n",
        "# 0 - hate speech \n",
        "# 1 - offensive language \n",
        "# 2 - neither\n",
        "\n",
        "# Transformare New Labels\n",
        "# 0 - hate speech & offensive language \n",
        "# 1 - normal speech\n",
        "\n",
        "new_dataset_labels = []\n",
        "for i in dataset_labels:\n",
        "  if i == 1:\n",
        "    new_dataset_labels.append(0)\n",
        "  elif i == 2:\n",
        "    new_dataset_labels.append(1)\n",
        "  else:\n",
        "    new_dataset_labels.append(i)\n",
        "\n",
        "hate_speech = [data for data in new_dataset_labels if data == 0]\n",
        "print('Hate speech tweets: ', len(hate_speech))\n",
        "print('Normal speech tweets: ', len(new_dataset_labels) - len(hate_speech))"
      ],
      "metadata": {
        "id": "J1MmAnaG8bwz",
        "outputId": "ece70a6d-636b-41d4-c83e-c0360e839c76",
        "colab": {
          "base_uri": "https://localhost:8080/"
        }
      },
      "execution_count": 29,
      "outputs": [
        {
          "output_type": "stream",
          "name": "stdout",
          "text": [
            "Hate speech tweets:  20620\n",
            "Normal speech tweets:  4163\n"
          ]
        }
      ]
    },
    {
      "cell_type": "markdown",
      "source": [
        "Vectorizare tweets"
      ],
      "metadata": {
        "id": "MjerMhev8d_6"
      }
    },
    {
      "cell_type": "code",
      "source": [
        "w = w2v(\n",
        "    dataset_tweets,\n",
        "    min_count=3,\n",
        "    sg=1,  # folosire skip-gram\n",
        "    window=7\n",
        ")\n",
        "\n",
        "emb_df = (\n",
        "    pd.DataFrame(\n",
        "        [w.wv.get_vector(str(n)) for n in w.wv.key_to_index],\n",
        "        index=w.wv.key_to_index\n",
        "    )\n",
        ")\n",
        "\n",
        "print(\"Snippet of vectorized dataset:\")\n",
        "emb_df.head()"
      ],
      "metadata": {
        "id": "hAJHgfOY8fMi",
        "outputId": "b17199bd-3ef3-492a-99cb-4dab4c946e21",
        "colab": {
          "base_uri": "https://localhost:8080/",
          "height": 317
        }
      },
      "execution_count": 30,
      "outputs": [
        {
          "output_type": "stream",
          "name": "stdout",
          "text": [
            "Snippet of vectorized dataset:\n"
          ]
        },
        {
          "output_type": "execute_result",
          "data": {
            "text/plain": [
              "             0         1         2         3         4         5         6   \\\n",
              "bitch -0.186601  0.303706  0.226702  0.129422  0.234953 -0.269451  0.315455   \n",
              "hoe   -0.252885  0.218358  0.141698  0.125353  0.318981 -0.437701  0.179263   \n",
              "like  -0.045649  0.008154 -0.069060 -0.140555  0.215516 -0.273308  0.025383   \n",
              "pussy -0.328523  0.158818  0.004122  0.088795  0.285280 -0.328634  0.074066   \n",
              "fuck   0.017596  0.045075 -0.091222 -0.015126  0.060066 -0.261692  0.106155   \n",
              "\n",
              "             7         8         9   ...        90        91        92  \\\n",
              "bitch  0.545220 -0.492730 -0.088232  ...  0.084412  0.037535  0.270657   \n",
              "hoe    0.461769 -0.420013 -0.242943  ... -0.003474  0.179359  0.224140   \n",
              "like   0.493558 -0.327128  0.067989  ... -0.044141  0.313047  0.356153   \n",
              "pussy  0.376174 -0.186576 -0.320660  ...  0.014798  0.189353 -0.073312   \n",
              "fuck   0.439016 -0.286701 -0.056454  ...  0.272354  0.223339  0.041651   \n",
              "\n",
              "             93        94        95        96        97        98        99  \n",
              "bitch -0.000025  0.606244  0.149338 -0.102350 -0.044696 -0.047560  0.164906  \n",
              "hoe    0.031420  0.534363  0.088017  0.191425 -0.144000 -0.277114  0.109153  \n",
              "like  -0.151202  0.438989  0.344465  0.227263  0.030640  0.169600 -0.015206  \n",
              "pussy  0.025972  0.652564  0.058487  0.185801 -0.192184 -0.224714  0.018949  \n",
              "fuck   0.143605  0.451436  0.165984  0.042076 -0.009220 -0.012717  0.008747  \n",
              "\n",
              "[5 rows x 100 columns]"
            ],
            "text/html": [
              "\n",
              "  <div id=\"df-7d560d0a-6ce7-4828-a7d3-d1bbe1f8b5bb\">\n",
              "    <div class=\"colab-df-container\">\n",
              "      <div>\n",
              "<style scoped>\n",
              "    .dataframe tbody tr th:only-of-type {\n",
              "        vertical-align: middle;\n",
              "    }\n",
              "\n",
              "    .dataframe tbody tr th {\n",
              "        vertical-align: top;\n",
              "    }\n",
              "\n",
              "    .dataframe thead th {\n",
              "        text-align: right;\n",
              "    }\n",
              "</style>\n",
              "<table border=\"1\" class=\"dataframe\">\n",
              "  <thead>\n",
              "    <tr style=\"text-align: right;\">\n",
              "      <th></th>\n",
              "      <th>0</th>\n",
              "      <th>1</th>\n",
              "      <th>2</th>\n",
              "      <th>3</th>\n",
              "      <th>4</th>\n",
              "      <th>5</th>\n",
              "      <th>6</th>\n",
              "      <th>7</th>\n",
              "      <th>8</th>\n",
              "      <th>9</th>\n",
              "      <th>...</th>\n",
              "      <th>90</th>\n",
              "      <th>91</th>\n",
              "      <th>92</th>\n",
              "      <th>93</th>\n",
              "      <th>94</th>\n",
              "      <th>95</th>\n",
              "      <th>96</th>\n",
              "      <th>97</th>\n",
              "      <th>98</th>\n",
              "      <th>99</th>\n",
              "    </tr>\n",
              "  </thead>\n",
              "  <tbody>\n",
              "    <tr>\n",
              "      <th>bitch</th>\n",
              "      <td>-0.186601</td>\n",
              "      <td>0.303706</td>\n",
              "      <td>0.226702</td>\n",
              "      <td>0.129422</td>\n",
              "      <td>0.234953</td>\n",
              "      <td>-0.269451</td>\n",
              "      <td>0.315455</td>\n",
              "      <td>0.545220</td>\n",
              "      <td>-0.492730</td>\n",
              "      <td>-0.088232</td>\n",
              "      <td>...</td>\n",
              "      <td>0.084412</td>\n",
              "      <td>0.037535</td>\n",
              "      <td>0.270657</td>\n",
              "      <td>-0.000025</td>\n",
              "      <td>0.606244</td>\n",
              "      <td>0.149338</td>\n",
              "      <td>-0.102350</td>\n",
              "      <td>-0.044696</td>\n",
              "      <td>-0.047560</td>\n",
              "      <td>0.164906</td>\n",
              "    </tr>\n",
              "    <tr>\n",
              "      <th>hoe</th>\n",
              "      <td>-0.252885</td>\n",
              "      <td>0.218358</td>\n",
              "      <td>0.141698</td>\n",
              "      <td>0.125353</td>\n",
              "      <td>0.318981</td>\n",
              "      <td>-0.437701</td>\n",
              "      <td>0.179263</td>\n",
              "      <td>0.461769</td>\n",
              "      <td>-0.420013</td>\n",
              "      <td>-0.242943</td>\n",
              "      <td>...</td>\n",
              "      <td>-0.003474</td>\n",
              "      <td>0.179359</td>\n",
              "      <td>0.224140</td>\n",
              "      <td>0.031420</td>\n",
              "      <td>0.534363</td>\n",
              "      <td>0.088017</td>\n",
              "      <td>0.191425</td>\n",
              "      <td>-0.144000</td>\n",
              "      <td>-0.277114</td>\n",
              "      <td>0.109153</td>\n",
              "    </tr>\n",
              "    <tr>\n",
              "      <th>like</th>\n",
              "      <td>-0.045649</td>\n",
              "      <td>0.008154</td>\n",
              "      <td>-0.069060</td>\n",
              "      <td>-0.140555</td>\n",
              "      <td>0.215516</td>\n",
              "      <td>-0.273308</td>\n",
              "      <td>0.025383</td>\n",
              "      <td>0.493558</td>\n",
              "      <td>-0.327128</td>\n",
              "      <td>0.067989</td>\n",
              "      <td>...</td>\n",
              "      <td>-0.044141</td>\n",
              "      <td>0.313047</td>\n",
              "      <td>0.356153</td>\n",
              "      <td>-0.151202</td>\n",
              "      <td>0.438989</td>\n",
              "      <td>0.344465</td>\n",
              "      <td>0.227263</td>\n",
              "      <td>0.030640</td>\n",
              "      <td>0.169600</td>\n",
              "      <td>-0.015206</td>\n",
              "    </tr>\n",
              "    <tr>\n",
              "      <th>pussy</th>\n",
              "      <td>-0.328523</td>\n",
              "      <td>0.158818</td>\n",
              "      <td>0.004122</td>\n",
              "      <td>0.088795</td>\n",
              "      <td>0.285280</td>\n",
              "      <td>-0.328634</td>\n",
              "      <td>0.074066</td>\n",
              "      <td>0.376174</td>\n",
              "      <td>-0.186576</td>\n",
              "      <td>-0.320660</td>\n",
              "      <td>...</td>\n",
              "      <td>0.014798</td>\n",
              "      <td>0.189353</td>\n",
              "      <td>-0.073312</td>\n",
              "      <td>0.025972</td>\n",
              "      <td>0.652564</td>\n",
              "      <td>0.058487</td>\n",
              "      <td>0.185801</td>\n",
              "      <td>-0.192184</td>\n",
              "      <td>-0.224714</td>\n",
              "      <td>0.018949</td>\n",
              "    </tr>\n",
              "    <tr>\n",
              "      <th>fuck</th>\n",
              "      <td>0.017596</td>\n",
              "      <td>0.045075</td>\n",
              "      <td>-0.091222</td>\n",
              "      <td>-0.015126</td>\n",
              "      <td>0.060066</td>\n",
              "      <td>-0.261692</td>\n",
              "      <td>0.106155</td>\n",
              "      <td>0.439016</td>\n",
              "      <td>-0.286701</td>\n",
              "      <td>-0.056454</td>\n",
              "      <td>...</td>\n",
              "      <td>0.272354</td>\n",
              "      <td>0.223339</td>\n",
              "      <td>0.041651</td>\n",
              "      <td>0.143605</td>\n",
              "      <td>0.451436</td>\n",
              "      <td>0.165984</td>\n",
              "      <td>0.042076</td>\n",
              "      <td>-0.009220</td>\n",
              "      <td>-0.012717</td>\n",
              "      <td>0.008747</td>\n",
              "    </tr>\n",
              "  </tbody>\n",
              "</table>\n",
              "<p>5 rows × 100 columns</p>\n",
              "</div>\n",
              "      <button class=\"colab-df-convert\" onclick=\"convertToInteractive('df-7d560d0a-6ce7-4828-a7d3-d1bbe1f8b5bb')\"\n",
              "              title=\"Convert this dataframe to an interactive table.\"\n",
              "              style=\"display:none;\">\n",
              "        \n",
              "  <svg xmlns=\"http://www.w3.org/2000/svg\" height=\"24px\"viewBox=\"0 0 24 24\"\n",
              "       width=\"24px\">\n",
              "    <path d=\"M0 0h24v24H0V0z\" fill=\"none\"/>\n",
              "    <path d=\"M18.56 5.44l.94 2.06.94-2.06 2.06-.94-2.06-.94-.94-2.06-.94 2.06-2.06.94zm-11 1L8.5 8.5l.94-2.06 2.06-.94-2.06-.94L8.5 2.5l-.94 2.06-2.06.94zm10 10l.94 2.06.94-2.06 2.06-.94-2.06-.94-.94-2.06-.94 2.06-2.06.94z\"/><path d=\"M17.41 7.96l-1.37-1.37c-.4-.4-.92-.59-1.43-.59-.52 0-1.04.2-1.43.59L10.3 9.45l-7.72 7.72c-.78.78-.78 2.05 0 2.83L4 21.41c.39.39.9.59 1.41.59.51 0 1.02-.2 1.41-.59l7.78-7.78 2.81-2.81c.8-.78.8-2.07 0-2.86zM5.41 20L4 18.59l7.72-7.72 1.47 1.35L5.41 20z\"/>\n",
              "  </svg>\n",
              "      </button>\n",
              "      \n",
              "  <style>\n",
              "    .colab-df-container {\n",
              "      display:flex;\n",
              "      flex-wrap:wrap;\n",
              "      gap: 12px;\n",
              "    }\n",
              "\n",
              "    .colab-df-convert {\n",
              "      background-color: #E8F0FE;\n",
              "      border: none;\n",
              "      border-radius: 50%;\n",
              "      cursor: pointer;\n",
              "      display: none;\n",
              "      fill: #1967D2;\n",
              "      height: 32px;\n",
              "      padding: 0 0 0 0;\n",
              "      width: 32px;\n",
              "    }\n",
              "\n",
              "    .colab-df-convert:hover {\n",
              "      background-color: #E2EBFA;\n",
              "      box-shadow: 0px 1px 2px rgba(60, 64, 67, 0.3), 0px 1px 3px 1px rgba(60, 64, 67, 0.15);\n",
              "      fill: #174EA6;\n",
              "    }\n",
              "\n",
              "    [theme=dark] .colab-df-convert {\n",
              "      background-color: #3B4455;\n",
              "      fill: #D2E3FC;\n",
              "    }\n",
              "\n",
              "    [theme=dark] .colab-df-convert:hover {\n",
              "      background-color: #434B5C;\n",
              "      box-shadow: 0px 1px 3px 1px rgba(0, 0, 0, 0.15);\n",
              "      filter: drop-shadow(0px 1px 2px rgba(0, 0, 0, 0.3));\n",
              "      fill: #FFFFFF;\n",
              "    }\n",
              "  </style>\n",
              "\n",
              "      <script>\n",
              "        const buttonEl =\n",
              "          document.querySelector('#df-7d560d0a-6ce7-4828-a7d3-d1bbe1f8b5bb button.colab-df-convert');\n",
              "        buttonEl.style.display =\n",
              "          google.colab.kernel.accessAllowed ? 'block' : 'none';\n",
              "\n",
              "        async function convertToInteractive(key) {\n",
              "          const element = document.querySelector('#df-7d560d0a-6ce7-4828-a7d3-d1bbe1f8b5bb');\n",
              "          const dataTable =\n",
              "            await google.colab.kernel.invokeFunction('convertToInteractive',\n",
              "                                                     [key], {});\n",
              "          if (!dataTable) return;\n",
              "\n",
              "          const docLinkHtml = 'Like what you see? Visit the ' +\n",
              "            '<a target=\"_blank\" href=https://colab.research.google.com/notebooks/data_table.ipynb>data table notebook</a>'\n",
              "            + ' to learn more about interactive tables.';\n",
              "          element.innerHTML = '';\n",
              "          dataTable['output_type'] = 'display_data';\n",
              "          await google.colab.output.renderOutput(dataTable, element);\n",
              "          const docLink = document.createElement('div');\n",
              "          docLink.innerHTML = docLinkHtml;\n",
              "          element.appendChild(docLink);\n",
              "        }\n",
              "      </script>\n",
              "    </div>\n",
              "  </div>\n",
              "  "
            ]
          },
          "metadata": {},
          "execution_count": 30
        }
      ]
    },
    {
      "cell_type": "code",
      "source": [
        "vectorized_sentences = [] \n",
        "vectorized_labels = []\n",
        "\n",
        "for i, sentence in enumerate(dataset_tweets):\n",
        "    sentence_vectors = []\n",
        "    for word in sentence:\n",
        "        try:\n",
        "            word_vector = w.wv.get_vector(word)\n",
        "            word_vector = word_vector[~np.isnan(word_vector)]\n",
        "            sentence_vectors.append(np.mean(word_vector))\n",
        "        except KeyError:\n",
        "            # If a word is not in the vocabulary, ignore it\n",
        "            pass\n",
        "    try:\n",
        "      vectorized_sentence = sentence_vectors\n",
        "      vectorized_sentences.append(vectorized_sentence)\n",
        "      vectorized_labels.append(new_dataset_labels[i])\n",
        "    except ZeroDivisionError:\n",
        "      pass\n",
        "\n",
        "print(\"Word vectorization for every sentence:\")\n",
        "print(vectorized_sentences[:5])\n",
        "print(\"Labels for the above sentences: \", vectorized_labels[:5])"
      ],
      "metadata": {
        "id": "l1YPqNob8jnK",
        "outputId": "ae2ed616-34c2-4392-f804-c4f48c4fcbdc",
        "colab": {
          "base_uri": "https://localhost:8080/"
        }
      },
      "execution_count": 31,
      "outputs": [
        {
          "output_type": "stream",
          "name": "stdout",
          "text": [
            "Word vectorization for every sentence:\n",
            "[[0.02035542, 0.013291196, 0.014167927, 0.011339133, 0.019492727, -0.007226741], [0.007143587, 0.01004994, 0.019328563, 0.011600499, 0.01004994, 0.013193748, 0.013349113], [0.014054215, 0.015724724, 0.0123932995, 0.012694121, 0.01706051, 0.012510509, 0.004316042], [0.015409739, 0.0196084, 0.011368518], [0.004316042, 0.013159556, 0.014326045, 0.008302736, 0.0123932995, 0.018008757]]\n",
            "Labels for the above sentences:  [1, 0, 0, 0, 0]\n"
          ]
        }
      ]
    },
    {
      "cell_type": "markdown",
      "source": [
        "Adaugare padding"
      ],
      "metadata": {
        "id": "kxf1NpDmAD1F"
      }
    },
    {
      "cell_type": "code",
      "source": [
        "# padding every tweet to the longest sentence\n",
        "padded_tweets = pad_sequence([torch.tensor(tweet) for tweet in vectorized_sentences], batch_first=True, padding_value=0)"
      ],
      "metadata": {
        "id": "oBmgvSRa_7W1"
      },
      "execution_count": 32,
      "outputs": []
    },
    {
      "cell_type": "markdown",
      "source": [
        "Separarea datelor in date de antrenare, testare si validare"
      ],
      "metadata": {
        "id": "RlPT0zmj4yHH"
      }
    },
    {
      "cell_type": "code",
      "source": [
        "X_train, X_val_test, y_train, y_val_test = train_test_split(padded_tweets, vectorized_labels, test_size=0.30, random_state=42)\n",
        "X_test, X_validation, y_test, y_validation = train_test_split(X_val_test, y_val_test, test_size=0.50, random_state=42)\n",
        "\n",
        "print(len(X_train))\n",
        "print(len(X_test))\n",
        "print(len(X_validation))"
      ],
      "metadata": {
        "id": "mgCTUFko4trf",
        "colab": {
          "base_uri": "https://localhost:8080/"
        },
        "outputId": "a3fc745b-6892-4343-a01a-383dfa73de25"
      },
      "execution_count": 33,
      "outputs": [
        {
          "output_type": "stream",
          "name": "stdout",
          "text": [
            "17348\n",
            "3717\n",
            "3718\n"
          ]
        }
      ]
    },
    {
      "cell_type": "markdown",
      "source": [
        "Model"
      ],
      "metadata": {
        "id": "ilEsADe6VAjr"
      }
    },
    {
      "cell_type": "code",
      "source": [
        "# Convertire date in tensori PyTorch\n",
        "\n",
        "X_train_tensor = torch.tensor(X_train)\n",
        "X_val_tensor = torch.tensor(X_validation)\n",
        "X_test_tensor = torch.tensor(X_test)\n",
        "y_train_tensor = torch.tensor(y_train)\n",
        "y_val_tensor = torch.tensor(y_validation)\n",
        "y_test_tensor = torch.tensor(y_test)\n",
        "\n",
        "train_data = TensorDataset(X_train_tensor, y_train_tensor)\n",
        "val_data = TensorDataset(X_val_tensor, y_val_tensor)\n",
        "test_data = TensorDataset(X_test_tensor, y_test_tensor)"
      ],
      "metadata": {
        "id": "2d7l152CVCJE",
        "outputId": "620ca8c6-1395-41a6-8443-d9f22496faf2",
        "colab": {
          "base_uri": "https://localhost:8080/"
        }
      },
      "execution_count": 34,
      "outputs": [
        {
          "output_type": "stream",
          "name": "stderr",
          "text": [
            "<ipython-input-34-5912342b6509>:3: UserWarning: To copy construct from a tensor, it is recommended to use sourceTensor.clone().detach() or sourceTensor.clone().detach().requires_grad_(True), rather than torch.tensor(sourceTensor).\n",
            "  X_train_tensor = torch.tensor(X_train)\n",
            "<ipython-input-34-5912342b6509>:4: UserWarning: To copy construct from a tensor, it is recommended to use sourceTensor.clone().detach() or sourceTensor.clone().detach().requires_grad_(True), rather than torch.tensor(sourceTensor).\n",
            "  X_val_tensor = torch.tensor(X_validation)\n",
            "<ipython-input-34-5912342b6509>:5: UserWarning: To copy construct from a tensor, it is recommended to use sourceTensor.clone().detach() or sourceTensor.clone().detach().requires_grad_(True), rather than torch.tensor(sourceTensor).\n",
            "  X_test_tensor = torch.tensor(X_test)\n"
          ]
        }
      ]
    },
    {
      "cell_type": "code",
      "source": [
        "# dataloaders\n",
        "batch_size = 50  \n",
        "train_loader = DataLoader(train_data, shuffle=True, batch_size=batch_size)\n",
        "val_loader = DataLoader(val_data, shuffle=True, batch_size=batch_size)\n",
        "test_loader = DataLoader(test_data, shuffle=True, batch_size=batch_size)"
      ],
      "metadata": {
        "id": "pTh-UNEBYxBT"
      },
      "execution_count": 35,
      "outputs": []
    },
    {
      "cell_type": "code",
      "source": [
        "# definire model RNN\n",
        "class RNN(nn.Module):\n",
        "    def __init__(self, input_size, hidden_size, output_size):\n",
        "        super(RNN, self).__init__()\n",
        "        self.hidden_size = hidden_size\n",
        "        self.rnn = nn.RNN(input_size, hidden_size, batch_first=True)\n",
        "        self.fc = nn.Linear(hidden_size, output_size)\n",
        "\n",
        "    def forward(self, x):\n",
        "        x = x.view(x.shape[0], 1, -1)  # reshape la (batch_size, sequence_length, input_size)\n",
        "        out, _ = self.rnn(x)\n",
        "        out = out[:, -1, :]  # get the last output of the sequence \n",
        "        out = self.fc(out)\n",
        "        return out\n",
        "\n",
        "model = RNN(len(X_train[0]), 32, 2)  # clasificare binara (hate_speech & offensive_language vs. normal_speech)\n",
        "criterion = nn.CrossEntropyLoss()\n",
        "optimizer = optim.Adam(model.parameters())"
      ],
      "metadata": {
        "id": "I-fTrvqRnpGb"
      },
      "execution_count": 36,
      "outputs": []
    },
    {
      "cell_type": "markdown",
      "source": [
        "Antrenare si validare model"
      ],
      "metadata": {
        "id": "go0xaOpUCZQN"
      }
    },
    {
      "cell_type": "code",
      "source": [
        "epochs_no = 100\n",
        "for epoch in range(epochs_no):  # antrenare model in epoci \n",
        "    # antrenare\n",
        "    model.train()\n",
        "    for inputs, labels in train_loader:\n",
        "        optimizer.zero_grad()\n",
        "        outputs = model(inputs.float())\n",
        "        loss = criterion(outputs, labels.long())\n",
        "        loss.backward()\n",
        "        optimizer.step()\n",
        "\n",
        "    # validare\n",
        "    model.eval()\n",
        "    \n",
        "    val_losses = []\n",
        "    for inputs, labels in val_loader:\n",
        "        with torch.no_grad():\n",
        "            val_outputs = model(inputs.float())\n",
        "            val_loss = criterion(val_outputs, labels.long())\n",
        "        val_losses.append(val_loss.item())\n",
        "    print(f'Epoch {epoch+1}, Loss: {loss.item()}, Val Loss: {sum(val_losses)/len(val_losses)}')"
      ],
      "metadata": {
        "colab": {
          "base_uri": "https://localhost:8080/"
        },
        "id": "2l4DKjmRZAu9",
        "outputId": "cbde7043-675b-4a9e-846f-fcb859b027fc"
      },
      "execution_count": 37,
      "outputs": [
        {
          "output_type": "stream",
          "name": "stdout",
          "text": [
            "Epoch 1, Loss: 0.4848940372467041, Val Loss: 0.4547721489270528\n",
            "Epoch 2, Loss: 0.3824653923511505, Val Loss: 0.45498765468597413\n",
            "Epoch 3, Loss: 0.3853233754634857, Val Loss: 0.45382894555727643\n",
            "Epoch 4, Loss: 0.4513022005558014, Val Loss: 0.4526953168710073\n",
            "Epoch 5, Loss: 0.4542456865310669, Val Loss: 0.4548202689488729\n",
            "Epoch 6, Loss: 0.4479007422924042, Val Loss: 0.4539025729894638\n",
            "Epoch 7, Loss: 0.32521116733551025, Val Loss: 0.45341663678487143\n",
            "Epoch 8, Loss: 0.48235607147216797, Val Loss: 0.4504246719678243\n",
            "Epoch 9, Loss: 0.26368284225463867, Val Loss: 0.452763177951177\n",
            "Epoch 10, Loss: 0.4475571811199188, Val Loss: 0.44804271121819816\n",
            "Epoch 11, Loss: 0.38624855875968933, Val Loss: 0.448045175075531\n",
            "Epoch 12, Loss: 0.3779705762863159, Val Loss: 0.44833411594231926\n",
            "Epoch 13, Loss: 0.3736109435558319, Val Loss: 0.44657398025194806\n",
            "Epoch 14, Loss: 0.431583970785141, Val Loss: 0.4461916430791219\n",
            "Epoch 15, Loss: 0.4304144084453583, Val Loss: 0.4504768451054891\n",
            "Epoch 16, Loss: 0.44459131360054016, Val Loss: 0.44520506501197815\n",
            "Epoch 17, Loss: 0.34744763374328613, Val Loss: 0.4448950441678365\n",
            "Epoch 18, Loss: 0.4080948829650879, Val Loss: 0.4458929737408956\n",
            "Epoch 19, Loss: 0.47237780690193176, Val Loss: 0.44620407978693644\n",
            "Epoch 20, Loss: 0.6722069382667542, Val Loss: 0.4461977901061376\n",
            "Epoch 21, Loss: 0.5146468877792358, Val Loss: 0.4445601300398509\n",
            "Epoch 22, Loss: 0.3652701675891876, Val Loss: 0.4448803528149923\n",
            "Epoch 23, Loss: 0.5593923926353455, Val Loss: 0.44406389971574145\n",
            "Epoch 24, Loss: 0.42075851559638977, Val Loss: 0.443332804441452\n",
            "Epoch 25, Loss: 0.48463693261146545, Val Loss: 0.44419716397921244\n",
            "Epoch 26, Loss: 0.6530858874320984, Val Loss: 0.44382935722668965\n",
            "Epoch 27, Loss: 0.3352607190608978, Val Loss: 0.4452182916800181\n",
            "Epoch 28, Loss: 0.42111286520957947, Val Loss: 0.4471772889296214\n",
            "Epoch 29, Loss: 0.5346521735191345, Val Loss: 0.44419771949450176\n",
            "Epoch 30, Loss: 0.37035080790519714, Val Loss: 0.44637463649113973\n",
            "Epoch 31, Loss: 0.4719940423965454, Val Loss: 0.4459158460299174\n",
            "Epoch 32, Loss: 0.5181714296340942, Val Loss: 0.4465541279315948\n",
            "Epoch 33, Loss: 0.3340914249420166, Val Loss: 0.4452734458446503\n",
            "Epoch 34, Loss: 0.27180764079093933, Val Loss: 0.4449756077925364\n",
            "Epoch 35, Loss: 0.5867964625358582, Val Loss: 0.44543929199377696\n",
            "Epoch 36, Loss: 0.4076406955718994, Val Loss: 0.44592523415883384\n",
            "Epoch 37, Loss: 0.40093064308166504, Val Loss: 0.4438719826936722\n",
            "Epoch 38, Loss: 0.5683643817901611, Val Loss: 0.4439534441630046\n",
            "Epoch 39, Loss: 0.42797064781188965, Val Loss: 0.44695810198783875\n",
            "Epoch 40, Loss: 0.46956610679626465, Val Loss: 0.44556049605210624\n",
            "Epoch 41, Loss: 0.41892579197883606, Val Loss: 0.4471738322575887\n",
            "Epoch 42, Loss: 0.5212624073028564, Val Loss: 0.44685240546862287\n",
            "Epoch 43, Loss: 0.3872295618057251, Val Loss: 0.44690638025601703\n",
            "Epoch 44, Loss: 0.36844420433044434, Val Loss: 0.4480881595611572\n",
            "Epoch 45, Loss: 0.4634254276752472, Val Loss: 0.44782782991727194\n",
            "Epoch 46, Loss: 0.46640530228614807, Val Loss: 0.44518953065077466\n",
            "Epoch 47, Loss: 0.4626246392726898, Val Loss: 0.44761856814225515\n",
            "Epoch 48, Loss: 0.33955714106559753, Val Loss: 0.44713253478209175\n",
            "Epoch 49, Loss: 0.6367886662483215, Val Loss: 0.445146849155426\n",
            "Epoch 50, Loss: 0.39164236187934875, Val Loss: 0.44730318625768023\n",
            "Epoch 51, Loss: 0.47050079703330994, Val Loss: 0.44495275696118675\n",
            "Epoch 52, Loss: 0.4051238000392914, Val Loss: 0.445148678223292\n",
            "Epoch 53, Loss: 0.5085936784744263, Val Loss: 0.44566729029019675\n",
            "Epoch 54, Loss: 0.5011782050132751, Val Loss: 0.4455555872122447\n",
            "Epoch 55, Loss: 0.43593940138816833, Val Loss: 0.44594837943712873\n",
            "Epoch 56, Loss: 0.40495535731315613, Val Loss: 0.44732421517372134\n",
            "Epoch 57, Loss: 0.4836132228374481, Val Loss: 0.44786336898803714\n",
            "Epoch 58, Loss: 0.3576270043849945, Val Loss: 0.44695147474606833\n",
            "Epoch 59, Loss: 0.4019679129123688, Val Loss: 0.44469511866569517\n",
            "Epoch 60, Loss: 0.30786654353141785, Val Loss: 0.44459374944368996\n",
            "Epoch 61, Loss: 0.45133674144744873, Val Loss: 0.4431452751159668\n",
            "Epoch 62, Loss: 0.46110430359840393, Val Loss: 0.4493207414944967\n",
            "Epoch 63, Loss: 0.2752692401409149, Val Loss: 0.4451022390524546\n",
            "Epoch 64, Loss: 0.5074490904808044, Val Loss: 0.4439113787810008\n",
            "Epoch 65, Loss: 0.47588369250297546, Val Loss: 0.44586841940879823\n",
            "Epoch 66, Loss: 0.38428544998168945, Val Loss: 0.4491250117619832\n",
            "Epoch 67, Loss: 0.4422096908092499, Val Loss: 0.4481877346833547\n",
            "Epoch 68, Loss: 0.48546573519706726, Val Loss: 0.4434550803899765\n",
            "Epoch 69, Loss: 0.3553907871246338, Val Loss: 0.44506448149681094\n",
            "Epoch 70, Loss: 0.2793329358100891, Val Loss: 0.44790343165397645\n",
            "Epoch 71, Loss: 0.5096716284751892, Val Loss: 0.44809508879979454\n",
            "Epoch 72, Loss: 0.35109493136405945, Val Loss: 0.4435986797014872\n",
            "Epoch 73, Loss: 0.46596524119377136, Val Loss: 0.4439191770553589\n",
            "Epoch 74, Loss: 0.38854527473449707, Val Loss: 0.4474128981431325\n",
            "Epoch 75, Loss: 0.3964414596557617, Val Loss: 0.4450714878241221\n",
            "Epoch 76, Loss: 0.2979327142238617, Val Loss: 0.44793901244799295\n",
            "Epoch 77, Loss: 0.47001883387565613, Val Loss: 0.4453968091805776\n",
            "Epoch 78, Loss: 0.5016767382621765, Val Loss: 0.4453377131621043\n",
            "Epoch 79, Loss: 0.3701060712337494, Val Loss: 0.44606832464536034\n",
            "Epoch 80, Loss: 0.5299564003944397, Val Loss: 0.4463979160785675\n",
            "Epoch 81, Loss: 0.30074092745780945, Val Loss: 0.44732725858688355\n",
            "Epoch 82, Loss: 0.4686901867389679, Val Loss: 0.44842984080314635\n",
            "Epoch 83, Loss: 0.5078169107437134, Val Loss: 0.44691774944464363\n",
            "Epoch 84, Loss: 0.5093445777893066, Val Loss: 0.44639946103096007\n",
            "Epoch 85, Loss: 0.4001036584377289, Val Loss: 0.4468914345900218\n",
            "Epoch 86, Loss: 0.33949148654937744, Val Loss: 0.4456209482749303\n",
            "Epoch 87, Loss: 0.35122254490852356, Val Loss: 0.44495663603146873\n",
            "Epoch 88, Loss: 0.4432039260864258, Val Loss: 0.4453913352886836\n",
            "Epoch 89, Loss: 0.38094162940979004, Val Loss: 0.4480581259727478\n",
            "Epoch 90, Loss: 0.5036101341247559, Val Loss: 0.44506813526153566\n",
            "Epoch 91, Loss: 0.3476804494857788, Val Loss: 0.4441882632176081\n",
            "Epoch 92, Loss: 0.42680153250694275, Val Loss: 0.4448398945728938\n",
            "Epoch 93, Loss: 0.4286355972290039, Val Loss: 0.44693010866641997\n",
            "Epoch 94, Loss: 0.44804784655570984, Val Loss: 0.4480566203594208\n",
            "Epoch 95, Loss: 0.35472461581230164, Val Loss: 0.4457501937945684\n",
            "Epoch 96, Loss: 0.42057907581329346, Val Loss: 0.4456376918156942\n",
            "Epoch 97, Loss: 0.485775351524353, Val Loss: 0.4466929352283478\n",
            "Epoch 98, Loss: 0.40214064717292786, Val Loss: 0.44468627393245697\n",
            "Epoch 99, Loss: 0.5102012753486633, Val Loss: 0.4453862845897675\n",
            "Epoch 100, Loss: 0.41780146956443787, Val Loss: 0.4465229229132334\n"
          ]
        }
      ]
    },
    {
      "cell_type": "markdown",
      "source": [
        "Testare model"
      ],
      "metadata": {
        "id": "Hpp-dC3ZCfqV"
      }
    },
    {
      "cell_type": "code",
      "source": [
        "model.eval()\n",
        "\n",
        "correct = 0\n",
        "total = 0\n",
        "predictions = []\n",
        "labelsTest = []\n",
        "for inputs, labels in test_loader:\n",
        "    with torch.no_grad():\n",
        "        test_outputs = model(inputs.float())\n",
        "        _, predicted = torch.max(test_outputs, 1)\n",
        "        total += labels.size(0)\n",
        "        predictions.extend(predicted)\n",
        "        labelsTest.extend(labels.long())\n",
        "        correct += (predicted == labels.long()).sum().item()\n",
        "\n",
        "accuracy = correct / total\n",
        "print(f'Test Accuracy: {accuracy}')\n",
        "print(classification_report(labelsTest, predictions))"
      ],
      "metadata": {
        "colab": {
          "base_uri": "https://localhost:8080/"
        },
        "id": "DVflK7KxZXea",
        "outputId": "3bcd9190-7ebb-4648-f339-91d3a0429b7d"
      },
      "execution_count": 38,
      "outputs": [
        {
          "output_type": "stream",
          "name": "stdout",
          "text": [
            "Test Accuracy: 0.8305084745762712\n",
            "              precision    recall  f1-score   support\n",
            "\n",
            "           0       0.83      1.00      0.91      3087\n",
            "           1       0.50      0.00      0.00       630\n",
            "\n",
            "    accuracy                           0.83      3717\n",
            "   macro avg       0.67      0.50      0.46      3717\n",
            "weighted avg       0.77      0.83      0.75      3717\n",
            "\n"
          ]
        }
      ]
    }
  ]
}